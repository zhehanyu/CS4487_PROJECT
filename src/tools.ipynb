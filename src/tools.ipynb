{
 "cells": [
  {
   "cell_type": "code",
   "execution_count": 17,
   "metadata": {},
   "outputs": [
    {
     "name": "stdout",
     "output_type": "stream",
     "text": [
      "True\n",
      "tensor([[2.],\n",
      "        [2.],\n",
      "        [2.]], device='cuda:0')\n"
     ]
    }
   ],
   "source": [
    "import os\n",
    "import torch\n",
    "\n",
    "\n",
    "print(torch.cuda.is_available())\n",
    "\n",
    "a = torch.ones((3,1)).cuda(0)\n",
    "b = torch.ones((3,1)).cuda(0)\n",
    "\n",
    "print(a+b)\n",
    "\n",
    "x = torch.tensor([0, 1, 2, 3, 4])\n",
    "save_dir = 'model_checkpoints'\n",
    "model_path = os.path.join(save_dir, f'ssp_network_epoch_{1 + 1}.pth')\n",
    "torch.save(x, model_path)"
   ]
  }
 ],
 "metadata": {
  "kernelspec": {
   "display_name": ".venv",
   "language": "python",
   "name": "python3"
  },
  "language_info": {
   "codemirror_mode": {
    "name": "ipython",
    "version": 3
   },
   "file_extension": ".py",
   "mimetype": "text/x-python",
   "name": "python",
   "nbconvert_exporter": "python",
   "pygments_lexer": "ipython3",
   "version": "3.12.6"
  }
 },
 "nbformat": 4,
 "nbformat_minor": 2
}
