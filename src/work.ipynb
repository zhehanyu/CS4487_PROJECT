{
 "cells": [
  {
   "cell_type": "code",
   "execution_count": 1,
   "metadata": {},
   "outputs": [],
   "source": [
    "import numpy as np\n",
    "import os\n",
    "from PIL import Image"
   ]
  },
  {
   "cell_type": "code",
   "execution_count": 2,
   "metadata": {},
   "outputs": [
    {
     "name": "stdout",
     "output_type": "stream",
     "text": [
      "共读取到 2500 张图片\n"
     ]
    }
   ],
   "source": [
    "# 指定目录\n",
    "directory = '../AIGC-Detection-Dataset/val/0_real'  # 替换为你的文件夹路径\n",
    "\n",
    "# 初始化一个列表来存储图片数据\n",
    "image_list = []\n",
    "\n",
    "# 遍历目录下的所有文件\n",
    "for filename in os.listdir(directory):\n",
    "    # 检查文件扩展名是否为 jpg\n",
    "    if filename.lower().endswith('.jpg'):\n",
    "        file_path = os.path.join(directory, filename)\n",
    "        # 打开并读取图像\n",
    "        with Image.open(file_path) as img:\n",
    "            # 将图像对象存入列表\n",
    "            image_list.append(img.copy())  # 使用 .copy() 防止文件关闭后图像对象失效\n",
    "\n",
    "# 检查列表内容\n",
    "print(f\"共读取到 {len(image_list)} 张图片\")"
   ]
  }
 ],
 "metadata": {
  "kernelspec": {
   "display_name": ".venv",
   "language": "python",
   "name": "python3"
  },
  "language_info": {
   "codemirror_mode": {
    "name": "ipython",
    "version": 3
   },
   "file_extension": ".py",
   "mimetype": "text/x-python",
   "name": "python",
   "nbconvert_exporter": "python",
   "pygments_lexer": "ipython3",
   "version": "3.9.6"
  }
 },
 "nbformat": 4,
 "nbformat_minor": 2
}
